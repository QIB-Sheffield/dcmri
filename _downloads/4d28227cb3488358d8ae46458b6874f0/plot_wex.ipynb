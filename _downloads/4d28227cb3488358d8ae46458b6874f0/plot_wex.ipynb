{
  "cells": [
    {
      "cell_type": "markdown",
      "metadata": {},
      "source": [
        "\n# An exploration of water exchange effects\n\nThis tutorial will explore the effect of water exchange in a standard two-compartmental tissue with extended Tofts kinetics. Data acquisition is modelled using the steady-state model of a spoiled gradient echo sequence.\n\nThe three tissue compartments involved are the blood, interstitium and tissue cells. The effect of water exchange between blood and interstitium (**transendothelial** water exchange) and between intersitium and tissue cells (**transcytolemmal** water exchange) is separately investigated. The water exchange in the blood compartment, particularly between plasma and red blood cells, is assumed to be in the fast exhange limit throughout. \n"
      ]
    },
    {
      "cell_type": "markdown",
      "metadata": {},
      "source": [
        "## Simulation setup\nFirst we set up the simulation by importing the necessary packages and defining the constants that will be fixed throughout. \n\n"
      ]
    },
    {
      "cell_type": "code",
      "execution_count": null,
      "metadata": {
        "collapsed": false
      },
      "outputs": [],
      "source": [
        "import numpy as np\nimport matplotlib.pyplot as plt\nimport dcmri as dc\n\n# The constants defining the signal model and simulation settings\nconst = {\n    'TR': 0.005,                # Repetition time (sec)\n    'FA': 15.0,                 # Flip angle (deg)\n    'agent': 'gadoxetate',      # Contrast agent\n    'field_strength': 3.0,      # Magnetic field strength (T)\n    'R10': 1/dc.T1(3.0, 'muscle'),\n    'R10b': 1/dc.T1(3.0, 'blood'), \n}\n\ntacq, aif, _, _ = dc.fake_tissue(tacq=300, **const)\n\n# The ground-truth kinetic parameters of the extended Tofts model\nptruth = {\n    'S0':1,        # S0 (a.u.)\n    'vp':0.05,       # vp (mL/mL)\n    'PS':0.1/60,     # Ktrans (mL/sec/mL)\n    've':0.30,        # ve (mL/mL)\n} \ntruth = np.array(list(ptruth.values()))"
      ]
    },
    {
      "cell_type": "markdown",
      "metadata": {},
      "source": [
        "## Visualising water exchange effects\nWe'll start by exploring how the level of water exchange affects the measured signal. As a point of reference we will predict signals using explicit models in the limits of fast water exchange and no water exchange:\n\n"
      ]
    },
    {
      "cell_type": "code",
      "execution_count": null,
      "metadata": {
        "collapsed": false
      },
      "outputs": [],
      "source": [
        "# Signal in the fast water exchange limit (all barriers fully transparent to water)\nffx = dc.Tissue(aif=aif, t=tacq, **(const | ptruth)).predict(tacq)\n\n# Signal in the no water exchange limit (all barriers impermeable to water)\nnnx = dc.Tissue(aif=aif, t=tacq, water_exchange='none', **(const | ptruth)).predict(tacq)"
      ]
    },
    {
      "cell_type": "markdown",
      "metadata": {},
      "source": [
        "In order to simulate intermediate regimes, we need the more general model that allows us to vary the values of the water permeabilities ``PSe`` and ``PSc`` across the endothelium and the membrane of the tissue cells, respectively. \n\nIn the first instance we consider a (hypothetical) tissue without transendothelial water exchange, but fast transcytolemmal water exchange. In other words, the endothelium is impermeable to water (``PSe = 0``) and the cell membrane is fully transparent. The symbolic value ``PSc = np.inf`` is not allowed but we can set ``PSc`` to the very high value of 1000 mL water filtered per second by 1mL of tissue. This is indistinguishable from the fast water exchange limit ``PSc = np.inf`` (as could be verified by increasing the value even higher):\n\n"
      ]
    },
    {
      "cell_type": "code",
      "execution_count": null,
      "metadata": {
        "collapsed": false
      },
      "outputs": [],
      "source": [
        "# Signal without transendothelial water exchange, but fast transcytolemmal water exchange\nnfx = dc.Tissue(aif=aif, t=tacq, water_exchange='any', PSe=0, PSc=1000, **(const | ptruth)).predict(tacq)"
      ]
    },
    {
      "cell_type": "markdown",
      "metadata": {},
      "source": [
        "Next we consider the alternative scenario where the endothelium is transparent to water (``PSe = np.inf``, approximated as ``PSe = 1000``) and the cell membrane is impermeable (``PSc = 0``):\n\n"
      ]
    },
    {
      "cell_type": "code",
      "execution_count": null,
      "metadata": {
        "collapsed": false
      },
      "outputs": [],
      "source": [
        "# Signal with fast transendothelial water exchange, but without transcytolemmal water exchange\nfnx = dc.Tissue(aif=aif, t=tacq, water_exchange='any', PSe=1000, PSc=0, **(const | ptruth)).predict(tacq)"
      ]
    },
    {
      "cell_type": "markdown",
      "metadata": {},
      "source": [
        "An intermediate situation arises if neither of the water permeabilities is either very high or close to zero. Trial and error shows that a choice of ``PSe = 1`` mL/sec/mL and ``PSc = 2`` mL/sec/mL produces a curve that lies in between the extremes:\n\n"
      ]
    },
    {
      "cell_type": "code",
      "execution_count": null,
      "metadata": {
        "collapsed": false
      },
      "outputs": [],
      "source": [
        "# Signal with intermediate transendothelial and transcytolemmal water exchange\niix = dc.Tissue(aif=aif, t=tacq, water_exchange='any', PSe=1, PSc=2, **(const | ptruth)).predict(tacq)"
      ]
    },
    {
      "cell_type": "markdown",
      "metadata": {},
      "source": [
        "We now plot the different results, using fast- and no-exchange limits for visual reference:\n\n"
      ]
    },
    {
      "cell_type": "code",
      "execution_count": null,
      "metadata": {
        "collapsed": false
      },
      "outputs": [],
      "source": [
        "fig, (ax0, ax1, ax2) = plt.subplots(1,3,figsize=(15,5))\n\nax0.set_title('No transendothelial exchange \\n Fast transcytolemmal exchange')\nax0.plot(tacq, ffx, 'g-', label='Fast exchange')\nax0.plot(tacq, nnx, 'b-', label='No exchange')\nax0.plot(tacq, nfx, 'r--', label='Intermediate exchange')\nax0.set_xlabel('Time (sec)')\nax0.set_ylabel('Signal (a.u.)')\nax0.legend()\n\nax1.set_title('Fast transendothelial exchange \\n No transcytolemmal exchange')\nax1.plot(tacq, ffx, 'g-', label='Fast exchange')\nax1.plot(tacq, nnx, 'b-', label='No exchange')\nax1.plot(tacq, fnx, 'r--', label='Intermediate exchange')\nax1.set_xlabel('Time (sec)')\nax1.set_ylabel('Signal (a.u.)')\nax1.legend()\n\nax2.set_title('Intermediate transendothelial exchange \\n Intermediate transcytolemmal exchange')\nax2.plot(tacq, ffx, 'g-', label='Fast exchange')\nax2.plot(tacq, nnx, 'b-', label='No exchange')\nax2.plot(tacq, iix, 'r--', label='Intermediate exchange')\nax2.set_xlabel('Time (sec)')\nax2.set_ylabel('Signal (a.u.)')\nax2.legend()\n\nplt.show()"
      ]
    },
    {
      "cell_type": "markdown",
      "metadata": {},
      "source": [
        "These figures show the expected observations: \n\n1. Water exchange levels have a measureable effect on signals, as shown by the clear difference between fast and slow exchange scenarios (blue vs. green curves). \n\n2. With fast transcytolemmal exchange but impermeable endothelium (left panel), the slowy changing extravascular part of the signal aligns with the fast exchange curve, and the first pass aligns with the no-exchange curve  \n\n3. Without transcytolemmal exchange the extravascular curve lines up with the no-exchange model (middle panel). The first pass is closer to the fast-exchange signal but does not align with it completely as it is partly obscured by already extravasated indicator.\n\n4. When both exchange levels are intermediate (right panel), then the signal is also intermediate between the extremes of fast and no exchange.\n\n**Note** while the effect of water exchange is detectable, it is comparatively small considering the difference between the blue and green curves represent the extremes of zero to maximal levels of water exchange. It is easily verified that changing kinetic parameters such as Ktrans over their entire range (zero to infinity) has a much larger impact on the signal. Water exchange is in that sense a second order effect.\n\n"
      ]
    },
    {
      "cell_type": "markdown",
      "metadata": {},
      "source": [
        "## Understanding water exchange bias\nSince the level of water exchange affects the signal, making inaccurate assumptions on the level of water exchange will create a bias in any measurement of the kinetic parameters. \n\nOne way to explore the scale of the water exchange bias is by generating data for a tissue in the fast exchange limit and analysing them making the opposite assumption that water exchange is negligible:\n\n"
      ]
    },
    {
      "cell_type": "code",
      "execution_count": null,
      "metadata": {
        "collapsed": false
      },
      "outputs": [],
      "source": [
        "# Launch a no-exchange model with default settings for the free parameters\nmodel = dc.Tissue(aif=aif, t=tacq, water_exchange='none', **const)\n\n# Predict the signal using the untrained model as a reference\nnnx0 = model.predict(tacq)\n\n# Train the model using data for a fast-exchange tissue\nmodel.train(tacq, ffx)\n\n# Predict the signal using the trained model\nnnx1 = model.predict(tacq)\n\n# Calculate the bias in the fitted parameters in %\npars = model.get_params('S0','vp','PS','ve')\nbias = 100*(np.array(pars)-truth)/truth\n\n# Plot the model fits\nfig, ax0 = plt.subplots(1,1,figsize=(6,5))\nax0.set_title('Water exchange bias')\nax0.plot(tacq, ffx, 'g-', linewidth=3, label='Signal data (fast exchange tissue)')\nax0.plot(tacq, nnx0, 'b-', label='Prediction (before training)')\nax0.plot(tacq, nnx1, 'b--', label='Prediction (after training)')\nax0.set_xlabel('Time (sec)')\nax0.set_ylabel('Signal (a.u.)')\nax0.legend()\nplt.show()\n\n# Print the parameter bias\nprint('')\nprint('Bias in kinetic model parameters')\nprint('--------------------------------')\nprint('vp error:', round(bias[1],1), '%')\nprint('ve error:', round(bias[3],1), '%')\nprint('Ktrans error:', round(bias[2],1), '%')"
      ]
    },
    {
      "cell_type": "markdown",
      "metadata": {},
      "source": [
        "The plot shows that the trained model predicts the data with high accuracy, despite the inaccurate assumption of no water exchange. However the false assumption does lead to fitted parameters that are severely biased.\n\n"
      ]
    },
    {
      "cell_type": "markdown",
      "metadata": {},
      "source": [
        "## Removing water exchange bias\nThe model bias can be removed by generalizing the model to allow for any level of water exchange, avoiding the risk of making a false assumption on this point:\n\n"
      ]
    },
    {
      "cell_type": "code",
      "execution_count": null,
      "metadata": {
        "collapsed": false
      },
      "outputs": [],
      "source": [
        "# Launch a general water exchange model with default settings for all free parameters\nmodel = dc.Tissue(aif=aif, t=tacq, water_exchange='any', **const)\n\n# Predict the signal using the untrained model as a reference\niix0 = model.predict(tacq)\n\n# Train the model using fast-exchange data and predict the signal again.\n# Note: we reduce here the x-tolerance from its default (1e-08) to speed up convergence. \niix1 = model.train(tacq, ffx, xtol=1e-2).predict(tacq)\n\n# Calculate the bias in the fitted parameters\npars = model.get_params('S0','vp','PS','ve')\nbias = 100*(np.array(pars)-truth)/truth\n\n# Plot the model fits\nfig, ax0 = plt.subplots(1,1,figsize=(6,5))\nax0.set_title('Water exchange bias')\nax0.plot(tacq, ffx, 'g-', linewidth=3, label='Signal data (fast exchange tissue)')\nax0.plot(tacq, iix0, 'r-', label='Prediction (before training)')\nax0.plot(tacq, iix1, 'r--', label='Prediction (after training)')\nax0.set_xlabel('Time (sec)')\nax0.set_ylabel('Signal (a.u.)')\nax0.legend()\nplt.show()\n\n# Print the parameter bias\nprint('')\nprint('Bias in kinetic model parameters')\nprint('--------------------------------')\nprint('vp error:', round(bias[1],2), '%')\nprint('ve error:', round(bias[3],2), '%')\nprint('Ktrans error:', round(bias[2],2), '%')\n\n# Print the water permeability estimates\nprint('')\nprint('Water permeability estimates')\nprint('----------------------------')\nprint('PSe:', round(model.PSe,0), 'mL/sec/mL')\nprint('PSc:', round(model.PSc,0), 'mL/sec/mL')"
      ]
    },
    {
      "cell_type": "markdown",
      "metadata": {},
      "source": [
        "Plotting the results now shows a practically perfect fit to the data, and the measurements of the kinetic parameters are effectively unbiased. \n\nAs a bonus the water-exchange sensitive model also estimates the water permeability, which as expected produces values in the fast-exchange range. As the actual PS-values are infinite the estimates can never approximate the ground truth, but at this level the predicted data are effectively indistinguishable from fast-exchange signals. \n\n"
      ]
    },
    {
      "cell_type": "markdown",
      "metadata": {},
      "source": [
        "## Additional sources of bias\nThe results show that small residual errors remain in the kinetic parameters, even after removing the model bias. While the error may be negligible for practical purposes, it is useful and illustrative to explore its origin further.\n\nAny remaining bias must be due to one or more of the three remaining sources of error: (1) *sampling bias* - temporal undersampling in the data used for training, which at 1.5s creates a small mismatch with the exact (pseudo)continuous signals; (2) *convergence bias* - imperfect convergence of the model training; (3) *numerical bias* - numerical errors in the computation of the model solutions. \n\nWe can get some insight by fitting the data with an unbiased model, i.e. fitting the data with the same model that was used to generate it. This is a simple model that is likely to be much less susceptible to convergence or numerical bias, so this analysis exposes the sampling bias (alternatively we can generate data with much smaller temporal sampling intervals):\n\n"
      ]
    },
    {
      "cell_type": "code",
      "execution_count": null,
      "metadata": {
        "collapsed": false
      },
      "outputs": [],
      "source": [
        "# Train a fast-exchange model on the fast exchange data\nmodel = dc.Tissue(aif=aif, t=tacq, **const).train(tacq, ffx)\n\n# Calculate the bias relative to the ground truth\npars = model.get_params('S0','vp','PS','ve')\nbias = 100*(np.array(pars)-truth)/truth\n\n# Print the bias for each kinetic parameter\nprint('')\nprint('Bias in kinetic model parameters')\nprint('--------------------------------')\nprint('vp error:', round(bias[1],2), '%')\nprint('ve error:', round(bias[3],2), '%')\nprint('Ktrans error:', round(bias[2],2), '%')"
      ]
    },
    {
      "cell_type": "markdown",
      "metadata": {},
      "source": [
        "Any remaining bias is smaller than 0.01%, which shows that temporal undersampling in this case only causes a minor error, and the residual errors observed with the more general model are due to imperfect convergence or numerical error. We can test for convergence bias by retraining the model with tighter convergence criteria: \n\n"
      ]
    },
    {
      "cell_type": "code",
      "execution_count": null,
      "metadata": {
        "collapsed": false
      },
      "outputs": [],
      "source": [
        "# Train a general water exchange model to fast exchange data:\nmodel = dc.Tissue(aif=aif, t=tacq, water_exchange='any', **const).train(tacq, ffx, xtol=1e-9)\n\n# Calculate the bias in the fitted parameters\npars = model.get_params('S0','vp','PS','ve')\nbias = 100*(np.array(pars)-truth)/truth\n\n# Print the parameter bias\nprint('')\nprint('Bias in kinetic model parameters')\nprint('--------------------------------')\nprint('vp error:', round(bias[1],2), '%')\nprint('ve error:', round(bias[3],2), '%')\nprint('Ktrans error:', round(bias[2],2), '%')\n\n# Print the water permeability estimates\nprint('')\nprint('Water permeability estimates')\nprint('----------------------------')\nprint('PSe:', round(model.PSe,0), 'mL/sec/mL')\nprint('PSc:', round(model.PSc,0), 'mL/sec/mL')"
      ]
    },
    {
      "cell_type": "markdown",
      "metadata": {},
      "source": [
        "The result is almost exactly the same as before, which indicates that the model has indeed converged and the residual bias is likely due to numerical error. This is plausible, since the general water exchange model is implemented using linear algebra involving operations such as matrix exponentials and numerical matrix inversion, which are likely to come with some numerical error. The exercise here verifies that the impact of these errors on the measurements of the kinetic parameters is negligible - as it should be.  \n\n"
      ]
    },
    {
      "cell_type": "markdown",
      "metadata": {},
      "source": [
        "## Bias versus precision\n\n"
      ]
    }
  ],
  "metadata": {
    "kernelspec": {
      "display_name": "Python 3",
      "language": "python",
      "name": "python3"
    },
    "language_info": {
      "codemirror_mode": {
        "name": "ipython",
        "version": 3
      },
      "file_extension": ".py",
      "mimetype": "text/x-python",
      "name": "python",
      "nbconvert_exporter": "python",
      "pygments_lexer": "ipython3",
      "version": "3.10.10"
    }
  },
  "nbformat": 4,
  "nbformat_minor": 0
}