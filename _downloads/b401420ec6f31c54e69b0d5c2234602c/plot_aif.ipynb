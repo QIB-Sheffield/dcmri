{
  "cells": [
    {
      "cell_type": "markdown",
      "metadata": {},
      "source": [
        "\n# The role of Arterial Input Functions\n\nThis tutorial will explore the role of the arterial input function (AIF) in DC-MRI analysis, including the effect of using population-average AIFs versus subject-specific AIFs. \n"
      ]
    },
    {
      "cell_type": "markdown",
      "metadata": {},
      "source": [
        "Import necessary packages\n\n"
      ]
    },
    {
      "cell_type": "code",
      "execution_count": null,
      "metadata": {
        "collapsed": false
      },
      "outputs": [],
      "source": [
        "import numpy as np\nimport matplotlib.pyplot as plt\nimport dcmri as dc"
      ]
    },
    {
      "cell_type": "markdown",
      "metadata": {},
      "source": [
        "## Why do we measure AIFs?\nWe simulate a DCE-MRI experiment on the brain of two subjects (A and B) that are identical, except that A has a higher cardiac output (9 litres per minute or 150 mL/sec) than B (6 litres per minute or 100 mL/sec). Let's simulate the signal-time curves that we would measure in grey matter. \n\n"
      ]
    },
    {
      "cell_type": "code",
      "execution_count": null,
      "metadata": {
        "collapsed": false
      },
      "outputs": [],
      "source": [
        "# Define the experimental setup\ntmax = 120      # Maximum acquisition time is 120 seconds (first-pass perfusion imaging)\ndt = 1.5        # Temporal resolution is 1.5 seconds\nt = np.arange(0, tmax, dt)\n\n# Define the tissue properties\ntissue = {\n    'kinetics': 'NX',   # NX = No-Exchange of contrast agent is appropriate \n                        # for brain tissue with intact blood-brain barrier.\n    'vp': 0.03,         # Plasma volume fraction is 3 mL/100mL in grey matter, \n                        # or 0.03 in standard units of mL/mL.\n    'Fp': 0.005,        # Plasma flow is 60 mL/min/100mL in grey matter, \n                        # or 0.005 in standard units of mL/sec/mL.\n}\n\n# Simulate the concentrations at the arterial inlet to the tissue. \n# We use `aif_tristan` here as this allows us to modify the cardiac output:\nca_A = dc.aif_tristan(t, BAT=20, CO=150)\nca_B = dc.aif_tristan(t, BAT=20, CO=100)\n\n# Define the tissue\nsig_A = dc.Tissue(ca=ca_A, t=t, **tissue).signal()\nsig_B = dc.Tissue(ca=ca_B, t=t, **tissue).signal()\n\n# Compare the two signals:\nplt.plot(t, sig_A, 'r-', label='Grey matter (subject A)')\nplt.plot(t, sig_B, 'b-', label='Grey matter (subject B)')\nplt.xlabel('Time (sec)')\nplt.ylabel('Signal (a.u.)')\nplt.legend()\nplt.show()"
      ]
    },
    {
      "cell_type": "markdown",
      "metadata": {},
      "source": [
        "The signals are very different, even though the grey matter of A and B is identical. The difference reflects the cardiac output, which is a confounder in an experiment that aims to characterise the brain tissue. \n\nAny visual interpretation of the signal-time curves, or a descriptive analysis using parameters such as the area under the signal-enhancement curve, or maximum signal enhancement, would lead to the false conclusion that the grey matter of subject B is more perfused than that of subject A. The AIF avoids this pitfall, and ensures that any systemic differences between subjects are not misinterpreted as differences in tissue properties. \n\nTo illustrate how this works, let's treat the signals generated above as measurements and use them to determine the unknown perfusion and vascularity of the grey matter of subjects A and B. \n\n"
      ]
    },
    {
      "cell_type": "code",
      "execution_count": null,
      "metadata": {
        "collapsed": false
      },
      "outputs": [],
      "source": [
        "# We create the tissue models again, but since the tissue properties are now unknown, \n# we do not provide the values of `vp` and `Fp`. \n# We assume the arterial concentrations are known from a separate measurement, \n# so these are provided as arterial input concentration to the model:\nA = dc.Tissue(ca=ca_A, t=t, kinetics='NX')\nB = dc.Tissue(ca=ca_B, t=t, kinetics='NX')\n\n# At this stage the tissue parameters are set to default values that are incorrect:\nprint('Tissue parameters: ')\nprint(A.get_params('vp', 'Fp'))\nprint('Ground truth:')\nprint([tissue['vp'], tissue['Fp']])"
      ]
    },
    {
      "cell_type": "markdown",
      "metadata": {},
      "source": [
        "Now we adjust those parameters by training the models using the measured signals:\n\n"
      ]
    },
    {
      "cell_type": "code",
      "execution_count": null,
      "metadata": {
        "collapsed": false
      },
      "outputs": [],
      "source": [
        "A.train(t, sig_A)\nB.train(t, sig_B) \n\n# Since the data are noise-free, the measured parameters are now exactly equal to the ground truth:\n\nprint('Tissue parameters (subject A): ')\nprint(A.get_params('vp', 'Fp', round_to=3))\nprint('Tissue parameters (subject B): ')\nprint(B.get_params('vp', 'Fp', round_to=3))"
      ]
    },
    {
      "cell_type": "markdown",
      "metadata": {},
      "source": [
        "Thanks to the AIF, we correctly conclude from these data that the blood flow and the blood volume of the grey matter of A and B are the same, despite the very different appearance of the signals measured in the grey matter of both subjects. \n\n"
      ]
    },
    {
      "cell_type": "markdown",
      "metadata": {},
      "source": [
        "## The case for population AIFs\nThe difficulty with the approach outlined above is that this requires an (accurate) measurement of the arterial concentration or signal in individual subjects. This is not a trivial problem. Feeding arteries are small for instance, in which case a concentration in pure blood may not be accessible; or they are far from the tissue of interest, causing bolus dispersion errors or differences in signal properties that are difficult to correct for; or they are measured in rapidly flowing and pulsating blood where standard signal models may be inaccurate. \n\nIf the arterial input is inaccurately measured, then the input to the tissue is misinterpreted, and this will translate to an error in the measured parameters. To illustrate thiw, let's assume there is a partial volume in the AIF of patient A, causing its arterial blood concentration to be underestimated by a factor 2:\n\n"
      ]
    },
    {
      "cell_type": "code",
      "execution_count": null,
      "metadata": {
        "collapsed": false
      },
      "outputs": [],
      "source": [
        "A = dc.Tissue(ca=ca_A/2, t=t, kinetics='NX')\n\n# Now let's train the model again :\nA.train(t, sig_A)\n\n# And check the impact on the measured parameters:\nprint('Tissue parameters (subject A): ')\nprint(A.get_params('vp', 'Fp', round_to=3))"
      ]
    },
    {
      "cell_type": "markdown",
      "metadata": {},
      "source": [
        "The tissue perfusion is now overestimated with the same factor 2, which obviously could lead to entirely wrong conclusions as regards the grey matter health. An additional problem is that this type of error is difficult to control. If partial volume effects are present, they will cause different levels of overestimation in different measurements. So this not only causes a bias, but also a variability that will impact even on assessed changes over time in the same subject. \n\nAddressing those issues by experimental design may be possible to some extent, but may also require changes that are incompatible with other constraints. For instance, partial volume errors can be reduced by increasing the image resolution, but this may lead to acquisition times that are too long for blood flow measurement. \n\nAn alternative approach that is sometimes proposed is to avoid the use of a measured AIF alltogether, and instead use a standardized AIF measured once using a similar experiment on a representative population. A popular choice is the AIF presented in Parker et al (Magn Reson Med 200%), which is implemented in ``dcmri`` as the function ``aif_parker()``.\n\n"
      ]
    },
    {
      "cell_type": "markdown",
      "metadata": {},
      "source": [
        "## Example using a population AIF\nTo illustrate the implications of using a population-based AIF, lets analyse the data from our subjects A and B again, this time using a popular population-based AIF:\n\n"
      ]
    },
    {
      "cell_type": "code",
      "execution_count": null,
      "metadata": {
        "collapsed": false
      },
      "outputs": [],
      "source": [
        "ca_pop = dc.aif_parker(t, BAT=20)\n\nA = dc.Tissue(ca=ca_pop, t=t, kinetics='NX')\nB = dc.Tissue(ca=ca_pop, t=t, kinetics='NX')\n\n# Train the models using the measured signals for each subject:\nA.train(t, sig_A)\nB.train(t, sig_B)\n\n# Check the fits:\nA.plot(t, sig_A)\nB.plot(t, sig_B)\n\n# Check the values for the measured parameters:\nprint('Tissue parameters (subject A): ')\nprint(A.get_params('vp', 'Fp', round_to=4))\nprint('Tissue parameters (subject B): ')\nprint(B.get_params('vp', 'Fp', round_to=4))"
      ]
    },
    {
      "cell_type": "markdown",
      "metadata": {},
      "source": [
        "The fit to the data is good and the measurements of ``vp`` are not so far off the ground truth (``vp=0.03``): underestimated for subject A (``vp=0.024``) and overestimated for subject B (``vp=0.036``). The estimates for the blood flow values are a factor 2.6 and 1.7 underestimated, respectively. The analysis leads to the (false) conclusion that the cerebral blood volume and -flow values of B are 50% higher than A. \n\nHence, while a suitable chosen population AIF may produce values in the correct order of magnitude, it suffers from the same fundamental problem as descriptive or qualitative curve-type analyses that between subject differences in tissue curves are interpreted as reflecting tissue properties, even if in reality they are due to systemic differences (cardiac output in this example).\n\n\n"
      ]
    },
    {
      "cell_type": "markdown",
      "metadata": {},
      "source": [
        "## Choice of a population AIF\nThe relative accuracy of the absolute values reflects the fact that the experimental conditions under which the population-average AIF from Parker et al was derived are actually very similar to this example (standard dose and injection rate of a standard extracellular agent). \n\nPlotting the population AIF against that of our subjects A and B shows that they are indeed comparable:\n\n\n"
      ]
    },
    {
      "cell_type": "code",
      "execution_count": null,
      "metadata": {
        "collapsed": false
      },
      "outputs": [],
      "source": [
        "plt.plot(t, ca_A, 'r-', label='Arterial concentration (subject A)')\nplt.plot(t, ca_B, 'b-', label='Arterial concentration (subject B)')\nplt.plot(t, ca_pop, 'g-', label='Arterial concentration (population-average)')\nplt.xlabel('Time (sec)')\nplt.ylabel('Signal (a.u.)')\nplt.legend()\nplt.show()"
      ]
    },
    {
      "cell_type": "markdown",
      "metadata": {},
      "source": [
        "We can investigate this more quantitatively by fitting the population AIF to an aorta model. Since the `Aorta` model predicts signals rather than concentrations, we need to first convert the concentrations to signals:\n\n"
      ]
    },
    {
      "cell_type": "code",
      "execution_count": null,
      "metadata": {
        "collapsed": false
      },
      "outputs": [],
      "source": [
        "cb = (1-0.45)*ca_pop                        # Convert to blood concentration using standard Hct\nR10 = 1/dc.T1(3.0, 'blood')                 # Precontrast R1 for blood at 3T\nr1 = dc.relaxivity(agent='gadodiamide')     # Relaxivity of the agent\nR1 = R10 + r1*cb                            # Relaxation rate as a function of time\nsig_pop = dc.signal_ss(R1, 1, 0.005, 15)    # Signal as a function of time"
      ]
    },
    {
      "cell_type": "markdown",
      "metadata": {},
      "source": [
        "Now we can train the Aorta model, setting the experimental parameters to match the conditions of the original paper (Parker et al 2005). We use a chain model for the heart-lung system, which is relatively slow but provides a better fit to high-resolution first pass data than the default 'pfcomp'. The defaults for the other constants (field strength, flip angle etc) are correct so do not need to be provided explicitly:\n\n"
      ]
    },
    {
      "cell_type": "code",
      "execution_count": null,
      "metadata": {
        "collapsed": false
      },
      "outputs": [],
      "source": [
        "aorta = dc.Aorta(rate=3, agent='gadodiamide', dose=0.2, heartlung='chain')\n\n# Train the model using the population AIF. \naorta.train(t, sig_pop, xtol=1e-3)\n\n# We can check that the trained model provides a good fit to the data:\naorta.plot(t, sig_pop)"
      ]
    },
    {
      "cell_type": "markdown",
      "metadata": {},
      "source": [
        "We can also have a look at the fitted parameters:\n\n"
      ]
    },
    {
      "cell_type": "code",
      "execution_count": null,
      "metadata": {
        "collapsed": false
      },
      "outputs": [],
      "source": [
        "aorta.print_params(round_to=2)"
      ]
    },
    {
      "cell_type": "markdown",
      "metadata": {},
      "source": [
        "The cardiac output of the populaton AIF is 220 mL/sec, substantially higher than the values for either subject A or B. This is consistent with the systematic underestimation in the blood flow values observed.\n\n"
      ]
    },
    {
      "cell_type": "code",
      "execution_count": null,
      "metadata": {
        "collapsed": false
      },
      "outputs": [],
      "source": [
        "# Choose the last image as a thumbnail for the gallery\n# sphinx_gallery_thumbnail_number = -1"
      ]
    }
  ],
  "metadata": {
    "kernelspec": {
      "display_name": "Python 3",
      "language": "python",
      "name": "python3"
    },
    "language_info": {
      "codemirror_mode": {
        "name": "ipython",
        "version": 3
      },
      "file_extension": ".py",
      "mimetype": "text/x-python",
      "name": "python",
      "nbconvert_exporter": "python",
      "pygments_lexer": "ipython3",
      "version": "3.10.10"
    }
  },
  "nbformat": 4,
  "nbformat_minor": 0
}